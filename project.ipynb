{
 "cells": [
  {
   "cell_type": "code",
   "execution_count": 1,
   "id": "5580e334-ec65-4c37-a3f9-07c6de5ed003",
   "metadata": {},
   "outputs": [],
   "source": [
    "import pandas as pd\n",
    "import numpy as np\n",
    "housing = pd.read_csv(\"Housing.csv\")"
   ]
  },
  {
   "cell_type": "code",
   "execution_count": 2,
   "id": "54db37ae-236a-4c11-8fb4-2a85cdfb7eb3",
   "metadata": {},
   "outputs": [
    {
     "name": "stdout",
     "output_type": "stream",
     "text": [
      "rows in train set = 436 \n",
      " rows in test set = 109\n"
     ]
    }
   ],
   "source": [
    "from sklearn.model_selection import train_test_split\n",
    "\n",
    "train_set,test_set = train_test_split(housing,test_size=0.2,random_state=42)\n",
    "print(f\"rows in train set = {len(train_set)} \\n rows in test set = {len(test_set)}\")\n"
   ]
  },
  {
   "cell_type": "code",
   "execution_count": 3,
   "id": "25b547dd-8871-4e36-9bcf-6bd27c8006db",
   "metadata": {},
   "outputs": [],
   "source": [
    "from sklearn.model_selection import StratifiedShuffleSplit\n",
    "split = StratifiedShuffleSplit(n_splits=1,test_size=0.2,random_state=42)\n",
    "for train_index,test_index in split.split(housing,housing['bedrooms'],housing['area']):\n",
    "    strat_train_set = housing.loc[train_index]\n",
    "    strat_test_set= housing.loc[test_index]"
   ]
  },
  {
   "cell_type": "code",
   "execution_count": 4,
   "id": "b7e4e40d-2b2b-4e34-8d99-b84d84700f28",
   "metadata": {},
   "outputs": [
    {
     "data": {
      "text/html": [
       "<div>\n",
       "<style scoped>\n",
       "    .dataframe tbody tr th:only-of-type {\n",
       "        vertical-align: middle;\n",
       "    }\n",
       "\n",
       "    .dataframe tbody tr th {\n",
       "        vertical-align: top;\n",
       "    }\n",
       "\n",
       "    .dataframe thead th {\n",
       "        text-align: right;\n",
       "    }\n",
       "</style>\n",
       "<table border=\"1\" class=\"dataframe\">\n",
       "  <thead>\n",
       "    <tr style=\"text-align: right;\">\n",
       "      <th></th>\n",
       "      <th>price</th>\n",
       "      <th>area</th>\n",
       "      <th>bedrooms</th>\n",
       "      <th>bathrooms</th>\n",
       "      <th>stories</th>\n",
       "      <th>mainroad</th>\n",
       "      <th>guestroom</th>\n",
       "      <th>basement</th>\n",
       "      <th>hotwaterheating</th>\n",
       "      <th>airconditioning</th>\n",
       "      <th>parking</th>\n",
       "      <th>prefarea</th>\n",
       "      <th>furnishingstatus</th>\n",
       "      <th>years</th>\n",
       "    </tr>\n",
       "  </thead>\n",
       "  <tbody>\n",
       "    <tr>\n",
       "      <th>count</th>\n",
       "      <td>4.360000e+02</td>\n",
       "      <td>436.000000</td>\n",
       "      <td>436.000000</td>\n",
       "      <td>436.000000</td>\n",
       "      <td>436.000000</td>\n",
       "      <td>436.000000</td>\n",
       "      <td>436.000000</td>\n",
       "      <td>436.000000</td>\n",
       "      <td>436.000000</td>\n",
       "      <td>436.000000</td>\n",
       "      <td>436.000000</td>\n",
       "      <td>436.000000</td>\n",
       "      <td>436.000000</td>\n",
       "      <td>436.000000</td>\n",
       "    </tr>\n",
       "    <tr>\n",
       "      <th>mean</th>\n",
       "      <td>4.806414e+06</td>\n",
       "      <td>5220.325688</td>\n",
       "      <td>2.970183</td>\n",
       "      <td>1.288991</td>\n",
       "      <td>1.795872</td>\n",
       "      <td>0.855505</td>\n",
       "      <td>0.190367</td>\n",
       "      <td>0.369266</td>\n",
       "      <td>0.050459</td>\n",
       "      <td>0.318807</td>\n",
       "      <td>0.724771</td>\n",
       "      <td>0.243119</td>\n",
       "      <td>0.481651</td>\n",
       "      <td>25.770642</td>\n",
       "    </tr>\n",
       "    <tr>\n",
       "      <th>std</th>\n",
       "      <td>1.885753e+06</td>\n",
       "      <td>2230.098270</td>\n",
       "      <td>0.740631</td>\n",
       "      <td>0.515478</td>\n",
       "      <td>0.861478</td>\n",
       "      <td>0.351995</td>\n",
       "      <td>0.393042</td>\n",
       "      <td>0.483160</td>\n",
       "      <td>0.219141</td>\n",
       "      <td>0.466550</td>\n",
       "      <td>0.872271</td>\n",
       "      <td>0.429459</td>\n",
       "      <td>0.389084</td>\n",
       "      <td>14.647825</td>\n",
       "    </tr>\n",
       "    <tr>\n",
       "      <th>min</th>\n",
       "      <td>1.750000e+06</td>\n",
       "      <td>1650.000000</td>\n",
       "      <td>1.000000</td>\n",
       "      <td>1.000000</td>\n",
       "      <td>1.000000</td>\n",
       "      <td>0.000000</td>\n",
       "      <td>0.000000</td>\n",
       "      <td>0.000000</td>\n",
       "      <td>0.000000</td>\n",
       "      <td>0.000000</td>\n",
       "      <td>0.000000</td>\n",
       "      <td>0.000000</td>\n",
       "      <td>0.000000</td>\n",
       "      <td>0.000000</td>\n",
       "    </tr>\n",
       "    <tr>\n",
       "      <th>25%</th>\n",
       "      <td>3.465000e+06</td>\n",
       "      <td>3600.000000</td>\n",
       "      <td>2.000000</td>\n",
       "      <td>1.000000</td>\n",
       "      <td>1.000000</td>\n",
       "      <td>1.000000</td>\n",
       "      <td>0.000000</td>\n",
       "      <td>0.000000</td>\n",
       "      <td>0.000000</td>\n",
       "      <td>0.000000</td>\n",
       "      <td>0.000000</td>\n",
       "      <td>0.000000</td>\n",
       "      <td>0.000000</td>\n",
       "      <td>12.000000</td>\n",
       "    </tr>\n",
       "    <tr>\n",
       "      <th>50%</th>\n",
       "      <td>4.340000e+06</td>\n",
       "      <td>4725.000000</td>\n",
       "      <td>3.000000</td>\n",
       "      <td>1.000000</td>\n",
       "      <td>2.000000</td>\n",
       "      <td>1.000000</td>\n",
       "      <td>0.000000</td>\n",
       "      <td>0.000000</td>\n",
       "      <td>0.000000</td>\n",
       "      <td>0.000000</td>\n",
       "      <td>0.000000</td>\n",
       "      <td>0.000000</td>\n",
       "      <td>0.500000</td>\n",
       "      <td>26.000000</td>\n",
       "    </tr>\n",
       "    <tr>\n",
       "      <th>75%</th>\n",
       "      <td>5.804750e+06</td>\n",
       "      <td>6442.500000</td>\n",
       "      <td>3.000000</td>\n",
       "      <td>2.000000</td>\n",
       "      <td>2.000000</td>\n",
       "      <td>1.000000</td>\n",
       "      <td>0.000000</td>\n",
       "      <td>1.000000</td>\n",
       "      <td>0.000000</td>\n",
       "      <td>1.000000</td>\n",
       "      <td>1.000000</td>\n",
       "      <td>0.000000</td>\n",
       "      <td>1.000000</td>\n",
       "      <td>39.000000</td>\n",
       "    </tr>\n",
       "    <tr>\n",
       "      <th>max</th>\n",
       "      <td>1.225000e+07</td>\n",
       "      <td>16200.000000</td>\n",
       "      <td>6.000000</td>\n",
       "      <td>4.000000</td>\n",
       "      <td>4.000000</td>\n",
       "      <td>1.000000</td>\n",
       "      <td>1.000000</td>\n",
       "      <td>1.000000</td>\n",
       "      <td>1.000000</td>\n",
       "      <td>1.000000</td>\n",
       "      <td>3.000000</td>\n",
       "      <td>1.000000</td>\n",
       "      <td>1.000000</td>\n",
       "      <td>49.000000</td>\n",
       "    </tr>\n",
       "  </tbody>\n",
       "</table>\n",
       "</div>"
      ],
      "text/plain": [
       "              price          area    bedrooms   bathrooms     stories  \\\n",
       "count  4.360000e+02    436.000000  436.000000  436.000000  436.000000   \n",
       "mean   4.806414e+06   5220.325688    2.970183    1.288991    1.795872   \n",
       "std    1.885753e+06   2230.098270    0.740631    0.515478    0.861478   \n",
       "min    1.750000e+06   1650.000000    1.000000    1.000000    1.000000   \n",
       "25%    3.465000e+06   3600.000000    2.000000    1.000000    1.000000   \n",
       "50%    4.340000e+06   4725.000000    3.000000    1.000000    2.000000   \n",
       "75%    5.804750e+06   6442.500000    3.000000    2.000000    2.000000   \n",
       "max    1.225000e+07  16200.000000    6.000000    4.000000    4.000000   \n",
       "\n",
       "         mainroad   guestroom    basement  hotwaterheating  airconditioning  \\\n",
       "count  436.000000  436.000000  436.000000       436.000000       436.000000   \n",
       "mean     0.855505    0.190367    0.369266         0.050459         0.318807   \n",
       "std      0.351995    0.393042    0.483160         0.219141         0.466550   \n",
       "min      0.000000    0.000000    0.000000         0.000000         0.000000   \n",
       "25%      1.000000    0.000000    0.000000         0.000000         0.000000   \n",
       "50%      1.000000    0.000000    0.000000         0.000000         0.000000   \n",
       "75%      1.000000    0.000000    1.000000         0.000000         1.000000   \n",
       "max      1.000000    1.000000    1.000000         1.000000         1.000000   \n",
       "\n",
       "          parking    prefarea  furnishingstatus       years  \n",
       "count  436.000000  436.000000        436.000000  436.000000  \n",
       "mean     0.724771    0.243119          0.481651   25.770642  \n",
       "std      0.872271    0.429459          0.389084   14.647825  \n",
       "min      0.000000    0.000000          0.000000    0.000000  \n",
       "25%      0.000000    0.000000          0.000000   12.000000  \n",
       "50%      0.000000    0.000000          0.500000   26.000000  \n",
       "75%      1.000000    0.000000          1.000000   39.000000  \n",
       "max      3.000000    1.000000          1.000000   49.000000  "
      ]
     },
     "execution_count": 4,
     "metadata": {},
     "output_type": "execute_result"
    }
   ],
   "source": [
    "strat_train_set.describe()"
   ]
  },
  {
   "cell_type": "code",
   "execution_count": 5,
   "id": "6f09c4c1-a097-4106-9fec-128b14f33ba1",
   "metadata": {},
   "outputs": [
    {
     "name": "stdout",
     "output_type": "stream",
     "text": [
      "<class 'pandas.core.frame.DataFrame'>\n",
      "Int64Index: 436 entries, 240 to 118\n",
      "Data columns (total 14 columns):\n",
      " #   Column            Non-Null Count  Dtype  \n",
      "---  ------            --------------  -----  \n",
      " 0   price             436 non-null    int64  \n",
      " 1   area              436 non-null    int64  \n",
      " 2   bedrooms          436 non-null    int64  \n",
      " 3   bathrooms         436 non-null    int64  \n",
      " 4   stories           436 non-null    int64  \n",
      " 5   mainroad          436 non-null    int64  \n",
      " 6   guestroom         436 non-null    int64  \n",
      " 7   basement          436 non-null    int64  \n",
      " 8   hotwaterheating   436 non-null    int64  \n",
      " 9   airconditioning   436 non-null    int64  \n",
      " 10  parking           436 non-null    int64  \n",
      " 11  prefarea          436 non-null    int64  \n",
      " 12  furnishingstatus  436 non-null    float64\n",
      " 13  years             436 non-null    int64  \n",
      "dtypes: float64(1), int64(13)\n",
      "memory usage: 51.1 KB\n"
     ]
    }
   ],
   "source": [
    "strat_train_set.info()"
   ]
  },
  {
   "cell_type": "code",
   "execution_count": 6,
   "id": "9ac0878e-851b-487b-b916-e77fc82ae4f6",
   "metadata": {},
   "outputs": [
    {
     "data": {
      "text/plain": [
       "3    240\n",
       "2    109\n",
       "4     76\n",
       "5      8\n",
       "6      2\n",
       "1      1\n",
       "Name: bedrooms, dtype: int64"
      ]
     },
     "execution_count": 6,
     "metadata": {},
     "output_type": "execute_result"
    }
   ],
   "source": [
    "strat_train_set['bedrooms'].value_counts()"
   ]
  },
  {
   "cell_type": "code",
   "execution_count": 7,
   "id": "91931ce4-084e-4380-9877-733e5a09d7fb",
   "metadata": {},
   "outputs": [
    {
     "data": {
      "text/plain": [
       "3    60\n",
       "2    27\n",
       "4    19\n",
       "5     2\n",
       "1     1\n",
       "Name: bedrooms, dtype: int64"
      ]
     },
     "execution_count": 7,
     "metadata": {},
     "output_type": "execute_result"
    }
   ],
   "source": [
    "strat_test_set['bedrooms'].value_counts()"
   ]
  },
  {
   "cell_type": "code",
   "execution_count": 8,
   "id": "2196db1f-7b0f-4fe4-bd8b-7e03a6d19af5",
   "metadata": {},
   "outputs": [],
   "source": [
    "housing = strat_train_set.copy()"
   ]
  },
  {
   "cell_type": "code",
   "execution_count": 9,
   "id": "91d4d565-9f0e-49fc-ae7c-6560c81c0a03",
   "metadata": {},
   "outputs": [
    {
     "data": {
      "text/plain": [
       "price               1.000000\n",
       "bathrooms           0.527200\n",
       "area                0.524219\n",
       "airconditioning     0.448333\n",
       "stories             0.420942\n",
       "parking             0.417418\n",
       "bedrooms            0.369358\n",
       "mainroad            0.325336\n",
       "prefarea            0.318772\n",
       "furnishingstatus    0.289723\n",
       "guestroom           0.248305\n",
       "basement            0.187302\n",
       "hotwaterheating     0.097784\n",
       "years               0.052216\n",
       "Name: price, dtype: float64"
      ]
     },
     "execution_count": 9,
     "metadata": {},
     "output_type": "execute_result"
    }
   ],
   "source": [
    "corr_matrix = housing.corr()\n",
    "corr_matrix['price'].sort_values(ascending=False)"
   ]
  },
  {
   "cell_type": "code",
   "execution_count": 10,
   "id": "99855d9b-686c-4ddd-8c83-90590b9660c8",
   "metadata": {},
   "outputs": [
    {
     "data": {
      "text/plain": [
       "array([[<Axes: xlabel='price', ylabel='price'>,\n",
       "        <Axes: xlabel='area', ylabel='price'>,\n",
       "        <Axes: xlabel='bathrooms', ylabel='price'>,\n",
       "        <Axes: xlabel='bedrooms', ylabel='price'>],\n",
       "       [<Axes: xlabel='price', ylabel='area'>,\n",
       "        <Axes: xlabel='area', ylabel='area'>,\n",
       "        <Axes: xlabel='bathrooms', ylabel='area'>,\n",
       "        <Axes: xlabel='bedrooms', ylabel='area'>],\n",
       "       [<Axes: xlabel='price', ylabel='bathrooms'>,\n",
       "        <Axes: xlabel='area', ylabel='bathrooms'>,\n",
       "        <Axes: xlabel='bathrooms', ylabel='bathrooms'>,\n",
       "        <Axes: xlabel='bedrooms', ylabel='bathrooms'>],\n",
       "       [<Axes: xlabel='price', ylabel='bedrooms'>,\n",
       "        <Axes: xlabel='area', ylabel='bedrooms'>,\n",
       "        <Axes: xlabel='bathrooms', ylabel='bedrooms'>,\n",
       "        <Axes: xlabel='bedrooms', ylabel='bedrooms'>]], dtype=object)"
      ]
     },
     "execution_count": 10,
     "metadata": {},
     "output_type": "execute_result"
    },
    {
     "data": {
      "image/png": "[encoded data removed]",
      "text/plain": [
       "<Figure size 1200x800 with 16 Axes>"
      ]
     },
     "metadata": {},
     "output_type": "display_data"
    }
   ],
   "source": [
    "from pandas.plotting import scatter_matrix\n",
    "attributes = ['price','area','bathrooms','bedrooms']\n",
    "scatter_matrix(housing[attributes],figsize=(12,8))"
   ]
  },
  {
   "cell_type": "code",
   "execution_count": 11,
   "id": "ba1a56a5-bf84-4458-8684-6139c2a143ee",
   "metadata": {},
   "outputs": [],
   "source": [
    "housing = strat_train_set.drop('price',axis=1)\n",
    "housing_labels = strat_train_set['price'].copy()"
   ]
  },
  {
   "cell_type": "code",
   "execution_count": 12,
   "id": "a82cfad2-f583-49d2-b31a-ffc5a7e1ddee",
   "metadata": {},
   "outputs": [
    {
     "data": {
      "text/html": [
       "<style>#sk-container-id-1 {color: black;background-color: white;}#sk-container-id-1 pre{padding: 0;}#sk-container-id-1 div.sk-toggleable {background-color: white;}#sk-container-id-1 label.sk-toggleable__label {cursor: pointer;display: block;width: 100%;margin-bottom: 0;padding: 0.3em;box-sizing: border-box;text-align: center;}#sk-container-id-1 label.sk-toggleable__label-arrow:before {content: \"▸\";float: left;margin-right: 0.25em;color: #696969;}#sk-container-id-1 label.sk-toggleable__label-arrow:hover:before {color: black;}#sk-container-id-1 div.sk-estimator:hover label.sk-toggleable__label-arrow:before {color: black;}#sk-container-id-1 div.sk-toggleable__content {max-height: 0;max-width: 0;overflow: hidden;text-align: left;background-color: #f0f8ff;}#sk-container-id-1 div.sk-toggleable__content pre {margin: 0.2em;color: black;border-radius: 0.25em;background-color: #f0f8ff;}#sk-container-id-1 input.sk-toggleable__control:checked~div.sk-toggleable__content {max-height: 200px;max-width: 100%;overflow: auto;}#sk-container-id-1 input.sk-toggleable__control:checked~label.sk-toggleable__label-arrow:before {content: \"▾\";}#sk-container-id-1 div.sk-estimator input.sk-toggleable__control:checked~label.sk-toggleable__label {background-color: #d4ebff;}#sk-container-id-1 div.sk-label input.sk-toggleable__control:checked~label.sk-toggleable__label {background-color: #d4ebff;}#sk-container-id-1 input.sk-hidden--visually {border: 0;clip: rect(1px 1px 1px 1px);clip: rect(1px, 1px, 1px, 1px);height: 1px;margin: -1px;overflow: hidden;padding: 0;position: absolute;width: 1px;}#sk-container-id-1 div.sk-estimator {font-family: monospace;background-color: #f0f8ff;border: 1px dotted black;border-radius: 0.25em;box-sizing: border-box;margin-bottom: 0.5em;}#sk-container-id-1 div.sk-estimator:hover {background-color: #d4ebff;}#sk-container-id-1 div.sk-parallel-item::after {content: \"\";width: 100%;border-bottom: 1px solid gray;flex-grow: 1;}#sk-container-id-1 div.sk-label:hover label.sk-toggleable__label {background-color: #d4ebff;}#sk-container-id-1 div.sk-serial::before {content: \"\";position: absolute;border-left: 1px solid gray;box-sizing: border-box;top: 0;bottom: 0;left: 50%;z-index: 0;}#sk-container-id-1 div.sk-serial {display: flex;flex-direction: column;align-items: center;background-color: white;padding-right: 0.2em;padding-left: 0.2em;position: relative;}#sk-container-id-1 div.sk-item {position: relative;z-index: 1;}#sk-container-id-1 div.sk-parallel {display: flex;align-items: stretch;justify-content: center;background-color: white;position: relative;}#sk-container-id-1 div.sk-item::before, #sk-container-id-1 div.sk-parallel-item::before {content: \"\";position: absolute;border-left: 1px solid gray;box-sizing: border-box;top: 0;bottom: 0;left: 50%;z-index: -1;}#sk-container-id-1 div.sk-parallel-item {display: flex;flex-direction: column;z-index: 1;position: relative;background-color: white;}#sk-container-id-1 div.sk-parallel-item:first-child::after {align-self: flex-end;width: 50%;}#sk-container-id-1 div.sk-parallel-item:last-child::after {align-self: flex-start;width: 50%;}#sk-container-id-1 div.sk-parallel-item:only-child::after {width: 0;}#sk-container-id-1 div.sk-dashed-wrapped {border: 1px dashed gray;margin: 0 0.4em 0.5em 0.4em;box-sizing: border-box;padding-bottom: 0.4em;background-color: white;}#sk-container-id-1 div.sk-label label {font-family: monospace;font-weight: bold;display: inline-block;line-height: 1.2em;}#sk-container-id-1 div.sk-label-container {text-align: center;}#sk-container-id-1 div.sk-container {/* jupyter's `normalize.less` sets `[hidden] { display: none; }` but bootstrap.min.css set `[hidden] { display: none !important; }` so we also need the `!important` here to be able to override the default hidden behavior on the sphinx rendered scikit-learn.org. See: https://github.com/scikit-learn/scikit-learn/issues/21755 */display: inline-block !important;position: relative;}#sk-container-id-1 div.sk-text-repr-fallback {display: none;}</style><div id=\"sk-container-id-1\" class=\"sk-top-container\"><div class=\"sk-text-repr-fallback\"><pre>SimpleImputer(strategy=&#x27;median&#x27;)</pre><b>In a Jupyter environment, please rerun this cell to show the HTML representation or trust the notebook. <br />On GitHub, the HTML representation is unable to render, please try loading this page with nbviewer.org.</b></div><div class=\"sk-container\" hidden><div class=\"sk-item\"><div class=\"sk-estimator sk-toggleable\"><input class=\"sk-toggleable__control sk-hidden--visually\" id=\"sk-estimator-id-1\" type=\"checkbox\" checked><label for=\"sk-estimator-id-1\" class=\"sk-toggleable__label sk-toggleable__label-arrow\">SimpleImputer</label><div class=\"sk-toggleable__content\"><pre>SimpleImputer(strategy=&#x27;median&#x27;)</pre></div></div></div></div></div>"
      ],
      "text/plain": [
       "SimpleImputer(strategy='median')"
      ]
     },
     "execution_count": 12,
     "metadata": {},
     "output_type": "execute_result"
    }
   ],
   "source": [
    "from sklearn.impute import SimpleImputer\n",
    "imputer = SimpleImputer(strategy = 'median')\n",
    "imputer.fit(housing)"
   ]
  },
  {
   "cell_type": "code",
   "execution_count": 13,
   "id": "3e0fce2b-da6f-4c9a-a88b-63c8c85929ea",
   "metadata": {},
   "outputs": [
    {
     "data": {
      "text/plain": [
       "array([4.725e+03, 3.000e+00, 1.000e+00, 2.000e+00, 1.000e+00, 0.000e+00,\n",
       "       0.000e+00, 0.000e+00, 0.000e+00, 0.000e+00, 0.000e+00, 5.000e-01,\n",
       "       2.600e+01])"
      ]
     },
     "execution_count": 13,
     "metadata": {},
     "output_type": "execute_result"
    }
   ],
   "source": [
    "imputer.statistics_"
   ]
  },
  {
   "cell_type": "code",
   "execution_count": 14,
   "id": "b3332b24-bbff-48ec-a373-711a2ddea7be",
   "metadata": {},
   "outputs": [],
   "source": [
    "x = imputer.transform(housing)"
   ]
  },
  {
   "cell_type": "code",
   "execution_count": 15,
   "id": "c9585cce-aa5c-4911-8158-69439a1ee15e",
   "metadata": {},
   "outputs": [],
   "source": [
    "housing_tr = pd.DataFrame(x,columns=housing.columns)"
   ]
  },
  {
   "cell_type": "code",
   "execution_count": 16,
   "id": "5aec0fbb-1f6c-44e2-ab7e-367c3c01e385",
   "metadata": {},
   "outputs": [
    {
     "data": {
      "text/html": [
       "<div>\n",
       "<style scoped>\n",
       "    .dataframe tbody tr th:only-of-type {\n",
       "        vertical-align: middle;\n",
       "    }\n",
       "\n",
       "    .dataframe tbody tr th {\n",
       "        vertical-align: top;\n",
       "    }\n",
       "\n",
       "    .dataframe thead th {\n",
       "        text-align: right;\n",
       "    }\n",
       "</style>\n",
       "<table border=\"1\" class=\"dataframe\">\n",
       "  <thead>\n",
       "    <tr style=\"text-align: right;\">\n",
       "      <th></th>\n",
       "      <th>area</th>\n",
       "      <th>bedrooms</th>\n",
       "      <th>bathrooms</th>\n",
       "      <th>stories</th>\n",
       "      <th>mainroad</th>\n",
       "      <th>guestroom</th>\n",
       "      <th>basement</th>\n",
       "      <th>hotwaterheating</th>\n",
       "      <th>airconditioning</th>\n",
       "      <th>parking</th>\n",
       "      <th>prefarea</th>\n",
       "      <th>furnishingstatus</th>\n",
       "      <th>years</th>\n",
       "    </tr>\n",
       "  </thead>\n",
       "  <tbody>\n",
       "    <tr>\n",
       "      <th>count</th>\n",
       "      <td>436.000000</td>\n",
       "      <td>436.000000</td>\n",
       "      <td>436.000000</td>\n",
       "      <td>436.000000</td>\n",
       "      <td>436.000000</td>\n",
       "      <td>436.000000</td>\n",
       "      <td>436.000000</td>\n",
       "      <td>436.000000</td>\n",
       "      <td>436.000000</td>\n",
       "      <td>436.000000</td>\n",
       "      <td>436.000000</td>\n",
       "      <td>436.000000</td>\n",
       "      <td>436.000000</td>\n",
       "    </tr>\n",
       "    <tr>\n",
       "      <th>mean</th>\n",
       "      <td>5220.325688</td>\n",
       "      <td>2.970183</td>\n",
       "      <td>1.288991</td>\n",
       "      <td>1.795872</td>\n",
       "      <td>0.855505</td>\n",
       "      <td>0.190367</td>\n",
       "      <td>0.369266</td>\n",
       "      <td>0.050459</td>\n",
       "      <td>0.318807</td>\n",
       "      <td>0.724771</td>\n",
       "      <td>0.243119</td>\n",
       "      <td>0.481651</td>\n",
       "      <td>25.770642</td>\n",
       "    </tr>\n",
       "    <tr>\n",
       "      <th>std</th>\n",
       "      <td>2230.098270</td>\n",
       "      <td>0.740631</td>\n",
       "      <td>0.515478</td>\n",
       "      <td>0.861478</td>\n",
       "      <td>0.351995</td>\n",
       "      <td>0.393042</td>\n",
       "      <td>0.483160</td>\n",
       "      <td>0.219141</td>\n",
       "      <td>0.466550</td>\n",
       "      <td>0.872271</td>\n",
       "      <td>0.429459</td>\n",
       "      <td>0.389084</td>\n",
       "      <td>14.647825</td>\n",
       "    </tr>\n",
       "    <tr>\n",
       "      <th>min</th>\n",
       "      <td>1650.000000</td>\n",
       "      <td>1.000000</td>\n",
       "      <td>1.000000</td>\n",
       "      <td>1.000000</td>\n",
       "      <td>0.000000</td>\n",
       "      <td>0.000000</td>\n",
       "      <td>0.000000</td>\n",
       "      <td>0.000000</td>\n",
       "      <td>0.000000</td>\n",
       "      <td>0.000000</td>\n",
       "      <td>0.000000</td>\n",
       "      <td>0.000000</td>\n",
       "      <td>0.000000</td>\n",
       "    </tr>\n",
       "    <tr>\n",
       "      <th>25%</th>\n",
       "      <td>3600.000000</td>\n",
       "      <td>2.000000</td>\n",
       "      <td>1.000000</td>\n",
       "      <td>1.000000</td>\n",
       "      <td>1.000000</td>\n",
       "      <td>0.000000</td>\n",
       "      <td>0.000000</td>\n",
       "      <td>0.000000</td>\n",
       "      <td>0.000000</td>\n",
       "      <td>0.000000</td>\n",
       "      <td>0.000000</td>\n",
       "      <td>0.000000</td>\n",
       "      <td>12.000000</td>\n",
       "    </tr>\n",
       "    <tr>\n",
       "      <th>50%</th>\n",
       "      <td>4725.000000</td>\n",
       "      <td>3.000000</td>\n",
       "      <td>1.000000</td>\n",
       "      <td>2.000000</td>\n",
       "      <td>1.000000</td>\n",
       "      <td>0.000000</td>\n",
       "      <td>0.000000</td>\n",
       "      <td>0.000000</td>\n",
       "      <td>0.000000</td>\n",
       "      <td>0.000000</td>\n",
       "      <td>0.000000</td>\n",
       "      <td>0.500000</td>\n",
       "      <td>26.000000</td>\n",
       "    </tr>\n",
       "    <tr>\n",
       "      <th>75%</th>\n",
       "      <td>6442.500000</td>\n",
       "      <td>3.000000</td>\n",
       "      <td>2.000000</td>\n",
       "      <td>2.000000</td>\n",
       "      <td>1.000000</td>\n",
       "      <td>0.000000</td>\n",
       "      <td>1.000000</td>\n",
       "      <td>0.000000</td>\n",
       "      <td>1.000000</td>\n",
       "      <td>1.000000</td>\n",
       "      <td>0.000000</td>\n",
       "      <td>1.000000</td>\n",
       "      <td>39.000000</td>\n",
       "    </tr>\n",
       "    <tr>\n",
       "      <th>max</th>\n",
       "      <td>16200.000000</td>\n",
       "      <td>6.000000</td>\n",
       "      <td>4.000000</td>\n",
       "      <td>4.000000</td>\n",
       "      <td>1.000000</td>\n",
       "      <td>1.000000</td>\n",
       "      <td>1.000000</td>\n",
       "      <td>1.000000</td>\n",
       "      <td>1.000000</td>\n",
       "      <td>3.000000</td>\n",
       "      <td>1.000000</td>\n",
       "      <td>1.000000</td>\n",
       "      <td>49.000000</td>\n",
       "    </tr>\n",
       "  </tbody>\n",
       "</table>\n",
       "</div>"
      ],
      "text/plain": [
       "               area    bedrooms   bathrooms     stories    mainroad  \\\n",
       "count    436.000000  436.000000  436.000000  436.000000  436.000000   \n",
       "mean    5220.325688    2.970183    1.288991    1.795872    0.855505   \n",
       "std     2230.098270    0.740631    0.515478    0.861478    0.351995   \n",
       "min     1650.000000    1.000000    1.000000    1.000000    0.000000   \n",
       "25%     3600.000000    2.000000    1.000000    1.000000    1.000000   \n",
       "50%     4725.000000    3.000000    1.000000    2.000000    1.000000   \n",
       "75%     6442.500000    3.000000    2.000000    2.000000    1.000000   \n",
       "max    16200.000000    6.000000    4.000000    4.000000    1.000000   \n",
       "\n",
       "        guestroom    basement  hotwaterheating  airconditioning     parking  \\\n",
       "count  436.000000  436.000000       436.000000       436.000000  436.000000   \n",
       "mean     0.190367    0.369266         0.050459         0.318807    0.724771   \n",
       "std      0.393042    0.483160         0.219141         0.466550    0.872271   \n",
       "min      0.000000    0.000000         0.000000         0.000000    0.000000   \n",
       "25%      0.000000    0.000000         0.000000         0.000000    0.000000   \n",
       "50%      0.000000    0.000000         0.000000         0.000000    0.000000   \n",
       "75%      0.000000    1.000000         0.000000         1.000000    1.000000   \n",
       "max      1.000000    1.000000         1.000000         1.000000    3.000000   \n",
       "\n",
       "         prefarea  furnishingstatus       years  \n",
       "count  436.000000        436.000000  436.000000  \n",
       "mean     0.243119          0.481651   25.770642  \n",
       "std      0.429459          0.389084   14.647825  \n",
       "min      0.000000          0.000000    0.000000  \n",
       "25%      0.000000          0.000000   12.000000  \n",
       "50%      0.000000          0.500000   26.000000  \n",
       "75%      0.000000          1.000000   39.000000  \n",
       "max      1.000000          1.000000   49.000000  "
      ]
     },
     "execution_count": 16,
     "metadata": {},
     "output_type": "execute_result"
    }
   ],
   "source": [
    "housing_tr.describe()"
   ]
  },
  {
   "cell_type": "code",
   "execution_count": 17,
   "id": "0a5ec6ed-ef3c-499a-b0cd-e3e6e403c9c8",
   "metadata": {},
   "outputs": [],
   "source": [
    "from sklearn.pipeline import Pipeline\n",
    "from sklearn.preprocessing import StandardScaler\n",
    "my_pipeline = Pipeline([\n",
    "    ('imputer',SimpleImputer(strategy='median')),\n",
    "    ('std_scaler',StandardScaler()),\n",
    "])"
   ]
  },
  {
   "cell_type": "code",
   "execution_count": 18,
   "id": "9ea62718-0614-4ea1-b7ec-05a478668220",
   "metadata": {},
   "outputs": [],
   "source": [
    "housing_num_tr = my_pipeline.fit_transform(housing)"
   ]
  },
  {
   "cell_type": "code",
   "execution_count": 19,
   "id": "022bdc8a-ba94-4573-8fea-6d5e3af269b9",
   "metadata": {},
   "outputs": [
    {
     "data": {
      "text/plain": [
       "(436, 13)"
      ]
     },
     "execution_count": 19,
     "metadata": {},
     "output_type": "execute_result"
    }
   ],
   "source": [
    "housing_num_tr.shape"
   ]
  },
  {
   "cell_type": "code",
   "execution_count": 20,
   "id": "df20fa34-5328-487c-8e20-c8988f372ddb",
   "metadata": {},
   "outputs": [],
   "source": [
    "from sklearn.model_selection import train_test_split\n",
    "X_train, X_test, y_train, y_test = train_test_split(housing, housing_labels, test_size=0.2, random_state=42)"
   ]
  },
  {
   "cell_type": "code",
   "execution_count": 21,
   "id": "d1f62b07-4b18-44f0-9e2f-84063b54d4c6",
   "metadata": {},
   "outputs": [
    {
     "data": {
      "text/plain": [
       "381    3605000\n",
       "533    2100000\n",
       "213    4893000\n",
       "245    4550000\n",
       "441    3220000\n",
       "        ...   \n",
       "420    3360000\n",
       "192    5040000\n",
       "539    1855000\n",
       "407    3465000\n",
       "449    3150000\n",
       "Name: price, Length: 348, dtype: int64"
      ]
     },
     "execution_count": 21,
     "metadata": {},
     "output_type": "execute_result"
    }
   ],
   "source": [
    "y_train"
   ]
  },
  {
   "cell_type": "code",
   "execution_count": 22,
   "id": "f80d2f07-c831-4777-9c2d-f8f895704422",
   "metadata": {},
   "outputs": [
    {
     "data": {
      "text/html": [
       "<style>#sk-container-id-2 {color: black;background-color: white;}#sk-container-id-2 pre{padding: 0;}#sk-container-id-2 div.sk-toggleable {background-color: white;}#sk-container-id-2 label.sk-toggleable__label {cursor: pointer;display: block;width: 100%;margin-bottom: 0;padding: 0.3em;box-sizing: border-box;text-align: center;}#sk-container-id-2 label.sk-toggleable__label-arrow:before {content: \"▸\";float: left;margin-right: 0.25em;color: #696969;}#sk-container-id-2 label.sk-toggleable__label-arrow:hover:before {color: black;}#sk-container-id-2 div.sk-estimator:hover label.sk-toggleable__label-arrow:before {color: black;}#sk-container-id-2 div.sk-toggleable__content {max-height: 0;max-width: 0;overflow: hidden;text-align: left;background-color: #f0f8ff;}#sk-container-id-2 div.sk-toggleable__content pre {margin: 0.2em;color: black;border-radius: 0.25em;background-color: #f0f8ff;}#sk-container-id-2 input.sk-toggleable__control:checked~div.sk-toggleable__content {max-height: 200px;max-width: 100%;overflow: auto;}#sk-container-id-2 input.sk-toggleable__control:checked~label.sk-toggleable__label-arrow:before {content: \"▾\";}#sk-container-id-2 div.sk-estimator input.sk-toggleable__control:checked~label.sk-toggleable__label {background-color: #d4ebff;}#sk-container-id-2 div.sk-label input.sk-toggleable__control:checked~label.sk-toggleable__label {background-color: #d4ebff;}#sk-container-id-2 input.sk-hidden--visually {border: 0;clip: rect(1px 1px 1px 1px);clip: rect(1px, 1px, 1px, 1px);height: 1px;margin: -1px;overflow: hidden;padding: 0;position: absolute;width: 1px;}#sk-container-id-2 div.sk-estimator {font-family: monospace;background-color: #f0f8ff;border: 1px dotted black;border-radius: 0.25em;box-sizing: border-box;margin-bottom: 0.5em;}#sk-container-id-2 div.sk-estimator:hover {background-color: #d4ebff;}#sk-container-id-2 div.sk-parallel-item::after {content: \"\";width: 100%;border-bottom: 1px solid gray;flex-grow: 1;}#sk-container-id-2 div.sk-label:hover label.sk-toggleable__label {background-color: #d4ebff;}#sk-container-id-2 div.sk-serial::before {content: \"\";position: absolute;border-left: 1px solid gray;box-sizing: border-box;top: 0;bottom: 0;left: 50%;z-index: 0;}#sk-container-id-2 div.sk-serial {display: flex;flex-direction: column;align-items: center;background-color: white;padding-right: 0.2em;padding-left: 0.2em;position: relative;}#sk-container-id-2 div.sk-item {position: relative;z-index: 1;}#sk-container-id-2 div.sk-parallel {display: flex;align-items: stretch;justify-content: center;background-color: white;position: relative;}#sk-container-id-2 div.sk-item::before, #sk-container-id-2 div.sk-parallel-item::before {content: \"\";position: absolute;border-left: 1px solid gray;box-sizing: border-box;top: 0;bottom: 0;left: 50%;z-index: -1;}#sk-container-id-2 div.sk-parallel-item {display: flex;flex-direction: column;z-index: 1;position: relative;background-color: white;}#sk-container-id-2 div.sk-parallel-item:first-child::after {align-self: flex-end;width: 50%;}#sk-container-id-2 div.sk-parallel-item:last-child::after {align-self: flex-start;width: 50%;}#sk-container-id-2 div.sk-parallel-item:only-child::after {width: 0;}#sk-container-id-2 div.sk-dashed-wrapped {border: 1px dashed gray;margin: 0 0.4em 0.5em 0.4em;box-sizing: border-box;padding-bottom: 0.4em;background-color: white;}#sk-container-id-2 div.sk-label label {font-family: monospace;font-weight: bold;display: inline-block;line-height: 1.2em;}#sk-container-id-2 div.sk-label-container {text-align: center;}#sk-container-id-2 div.sk-container {/* jupyter's `normalize.less` sets `[hidden] { display: none; }` but bootstrap.min.css set `[hidden] { display: none !important; }` so we also need the `!important` here to be able to override the default hidden behavior on the sphinx rendered scikit-learn.org. See: https://github.com/scikit-learn/scikit-learn/issues/21755 */display: inline-block !important;position: relative;}#sk-container-id-2 div.sk-text-repr-fallback {display: none;}</style><div id=\"sk-container-id-2\" class=\"sk-top-container\"><div class=\"sk-text-repr-fallback\"><pre>RandomForestRegressor()</pre><b>In a Jupyter environment, please rerun this cell to show the HTML representation or trust the notebook. <br />On GitHub, the HTML representation is unable to render, please try loading this page with nbviewer.org.</b></div><div class=\"sk-container\" hidden><div class=\"sk-item\"><div class=\"sk-estimator sk-toggleable\"><input class=\"sk-toggleable__control sk-hidden--visually\" id=\"sk-estimator-id-2\" type=\"checkbox\" checked><label for=\"sk-estimator-id-2\" class=\"sk-toggleable__label sk-toggleable__label-arrow\">RandomForestRegressor</label><div class=\"sk-toggleable__content\"><pre>RandomForestRegressor()</pre></div></div></div></div></div>"
      ],
      "text/plain": [
       "RandomForestRegressor()"
      ]
     },
     "execution_count": 22,
     "metadata": {},
     "output_type": "execute_result"
    }
   ],
   "source": [
    "from sklearn.linear_model import LinearRegression\n",
    "from sklearn.tree import DecisionTreeRegressor\n",
    "from sklearn.ensemble import RandomForestRegressor\n",
    "from sklearn.neighbors import KNeighborsClassifier \n",
    "classifier= KNeighborsClassifier(n_neighbors=5, metric='minkowski', p=2 ) \n",
    "from sklearn import svm\n",
    "from sklearn.svm import SVR\n",
    "    \n",
    "#model = LinearRegression()\n",
    "#model = DecisionTreeRegressor()\n",
    "model =  RandomForestRegressor()\n",
    "#model =classifier.fit(X_train,y_train)\n",
    "#model=model1.fit(housing,housing_labels)\n",
    "#model=SVR(kernel='rbf')\n",
    "#model.fit(X_train, y_train.ravel())\n",
    "model.fit(housing_num_tr,housing_labels)\n"
   ]
  },
  {
   "cell_type": "code",
   "execution_count": 23,
   "id": "bb6a6ce9-cc2e-47c7-b372-e077e2065ba6",
   "metadata": {},
   "outputs": [],
   "source": [
    "some_data = housing.iloc[:5]\n",
    "some_labels = housing_labels.iloc[:5]"
   ]
  },
  {
   "cell_type": "code",
   "execution_count": 24,
   "id": "cc685f9f-768f-47c4-b485-1979227c8afd",
   "metadata": {},
   "outputs": [],
   "source": [
    "prepared_data = my_pipeline.transform(some_data)"
   ]
  },
  {
   "cell_type": "code",
   "execution_count": 25,
   "id": "c1d9a421-99dc-4d9f-913b-c8dd599fc70a",
   "metadata": {},
   "outputs": [
    {
     "data": {
      "text/plain": [
       "array([4380320., 5707310., 4935280., 6054825., 3328080.])"
      ]
     },
     "execution_count": 25,
     "metadata": {},
     "output_type": "execute_result"
    }
   ],
   "source": [
    "model.predict(prepared_data)"
   ]
  },
  {
   "cell_type": "code",
   "execution_count": 26,
   "id": "e61e0c29-2850-4f70-afb4-c0a85a6eef09",
   "metadata": {},
   "outputs": [
    {
     "data": {
      "text/plain": [
       "[4585000, 5803000, 4900000, 6090000, 3010000]"
      ]
     },
     "execution_count": 26,
     "metadata": {},
     "output_type": "execute_result"
    }
   ],
   "source": [
    "list(some_labels)"
   ]
  },
  {
   "cell_type": "code",
   "execution_count": 27,
   "id": "a4ac6184-0392-4d15-a5fb-b8e78f575643",
   "metadata": {},
   "outputs": [],
   "source": [
    "from sklearn.metrics import mean_squared_error\n",
    "housing_predictions = model.predict(housing_num_tr)\n",
    "mse = mean_squared_error(housing_labels,housing_predictions)\n",
    "rmse = np.sqrt(mse)"
   ]
  },
  {
   "cell_type": "markdown",
   "id": "d723aff8-8274-43d2-9487-b0646838a69a",
   "metadata": {},
   "source": [
    "mse"
   ]
  },
  {
   "cell_type": "code",
   "execution_count": 28,
   "id": "47f2ae03-bbb0-41d7-99c1-6d690ae7335f",
   "metadata": {},
   "outputs": [
    {
     "data": {
      "text/plain": [
       "411632.9905987744"
      ]
     },
     "execution_count": 28,
     "metadata": {},
     "output_type": "execute_result"
    }
   ],
   "source": [
    "rmse"
   ]
  },
  {
   "cell_type": "code",
   "execution_count": 29,
   "id": "461d4dc4-dbb1-4a1c-bd97-227c7e63897d",
   "metadata": {},
   "outputs": [],
   "source": [
    "from sklearn.model_selection import cross_val_score\n",
    "scores = cross_val_score(model,housing_num_tr,housing_labels,scoring=\"neg_mean_squared_error\",cv=10)\n",
    "rmse_scores = np.sqrt(-scores)"
   ]
  },
  {
   "cell_type": "code",
   "execution_count": 30,
   "id": "4b53e48e-9f9e-44c7-be40-d1c740610b30",
   "metadata": {},
   "outputs": [
    {
     "data": {
      "text/plain": [
       "array([1186312.69143922,  720794.29771832, 1129448.70241194,\n",
       "       1063981.04253007, 1027349.55601099, 1170328.15571431,\n",
       "       1007007.60718966, 1130097.27437176, 1785289.04682177,\n",
       "       1226353.50040004])"
      ]
     },
     "execution_count": 30,
     "metadata": {},
     "output_type": "execute_result"
    }
   ],
   "source": [
    "rmse_scores"
   ]
  },
  {
   "cell_type": "code",
   "execution_count": 31,
   "id": "b376dfb2-dd74-41ed-9bd8-adb75829972b",
   "metadata": {},
   "outputs": [],
   "source": [
    "def print_scores(scores):\n",
    "    print(\"scores:\",scores)\n",
    "    print(\"mean:\",scores.mean())\n",
    "    print(\"std dev\",scores.std())"
   ]
  },
  {
   "cell_type": "code",
   "execution_count": 32,
   "id": "4c46a640-4001-4747-ab14-8bdbd9e6b957",
   "metadata": {
    "scrolled": true
   },
   "outputs": [
    {
     "name": "stdout",
     "output_type": "stream",
     "text": [
      "scores: [1186312.69143922  720794.29771832 1129448.70241194 1063981.04253007\n",
      " 1027349.55601099 1170328.15571431 1007007.60718966 1130097.27437176\n",
      " 1785289.04682177 1226353.50040004]\n",
      "mean: 1144696.187460807\n",
      "std dev 252744.49495141988\n"
     ]
    }
   ],
   "source": [
    "print_scores(rmse_scores)"
   ]
  },
  {
   "cell_type": "code",
   "execution_count": 33,
   "id": "02d0c283-4ce9-408b-9f10-ce9ace823a2a",
   "metadata": {},
   "outputs": [
    {
     "data": {
      "text/plain": [
       "['real_estate.joblib']"
      ]
     },
     "execution_count": 33,
     "metadata": {},
     "output_type": "execute_result"
    }
   ],
   "source": [
    "from joblib import dump,load\n",
    "dump(model,'real_estate.joblib')"
   ]
  },
  {
   "cell_type": "code",
   "execution_count": 34,
   "id": "87059127-c3ac-460e-8695-653c3f25b9e9",
   "metadata": {},
   "outputs": [
    {
     "name": "stdout",
     "output_type": "stream",
     "text": [
      "[7414960.  2723980.  6373045.  2823870.  2531760.  7056140.  4093810.\n",
      " 3012835.  5117525.  3545853.5 2342497.5 2689330.  2846935.  7281120.\n",
      " 4684680.  5139330.  4424980.  2534630.  6408885.  4012435.  3888325.\n",
      " 4256840.  4499810.  8808094.4 6110405.  4347630.  2780050.  4889185.\n",
      " 2302401.5 4110715.  3907120.  8037149.4 5297005.  6866819.4 3763515.\n",
      " 5206390.  4928350.  6618570.  4917570.  4141830.  3177440.  7661675.\n",
      " 5971805.  6460300.  3315056.5 7052273.2 5226095.  4902870.  5292210.\n",
      " 3371620.  2518950.  4424910.  4699030.  4732980.  3466820.  3707865.\n",
      " 2664480.  5877585.  2780050.  7490210.  4143370.  2920750.  5500530.\n",
      " 4145788.5 5507845.  6157620.  5623380.  2529404.5 5406240.  2222500.\n",
      " 4617305.  4526060.  2827580.  3707410.  3465630.  5411560.  4411330.\n",
      " 4343255.  7663740.  3034360.  6065920.  3941630.  4435060.  6980540.\n",
      " 3733835.  4638445.  2988443.5 3885350.  3276738.5 5712630.  4642155.\n",
      " 7602898.8 3134460.  3810730.  4397820.  5315660.  3814755.  4165353.5\n",
      " 4271540.  3155530.  4359600.  2668960.  4457320.  4843510.  8252948.2\n",
      " 2914100.  7066360.  6435485.  5808950. ] \n",
      " [7210000, 3500000, 5320000, 3500000, 5110000, 7420000, 3780000, 2940000, 4480000, 3745000, 2240000, 3150000, 4375000, 6650000, 8400000, 5215000, 4403000, 2940000, 9240000, 5866000, 4900000, 2940000, 4830000, 4795000, 6300000, 3010000, 2310000, 4382000, 2660000, 4403000, 4095000, 13300000, 4767000, 5250000, 3500000, 3920000, 5215000, 6265000, 4935000, 4550000, 3220000, 8120000, 5950000, 6755000, 5145000, 6650000, 4200000, 3150000, 4305000, 3640000, 2590000, 7455000, 4900000, 4095000, 3500000, 3675000, 2870000, 7140000, 3220000, 7910000, 3500000, 3430000, 6510000, 2660000, 3990000, 6685000, 3850000, 2520000, 6720000, 2450000, 4515000, 4270000, 2275000, 3290000, 2275000, 5523000, 4900000, 3010000, 6195000, 3430000, 4760000, 3640000, 4585000, 6580000, 4620000, 4480000, 3465000, 2870000, 3010000, 5600000, 4200000, 8575000, 3710000, 4200000, 4480000, 4543000, 4270000, 4060000, 2380000, 2961000, 3640000, 2380000, 4200000, 2590000, 6300000, 2100000, 6293000, 4550000, 6930000]\n"
     ]
    }
   ],
   "source": [
    "x_test = strat_test_set.drop(\"price\",axis=1)\n",
    "y_test = strat_test_set['price'].copy()\n",
    "x_test_prepared = my_pipeline.transform(x_test)\n",
    "final_prediction = model.predict(x_test_prepared)\n",
    "final_mse = mean_squared_error(y_test,final_prediction)\n",
    "final_rmse = np.sqrt(final_mse)\n",
    "print(final_prediction,\"\\n\",list(y_test))"
   ]
  },
  {
   "cell_type": "code",
   "execution_count": null,
   "id": "88806eaa-cddd-4327-b829-29514790bb70",
   "metadata": {},
   "outputs": [],
   "source": []
  }
 ],
 "metadata": {
  "kernelspec": {
   "display_name": "Python 3 (ipykernel)",
   "language": "python",
   "name": "python3"
  },
  "language_info": {
   "codemirror_mode": {
    "name": "ipython",
    "version": 3
   },
   "file_extension": ".py",
   "mimetype": "text/x-python",
   "name": "python",
   "nbconvert_exporter": "python",
   "pygments_lexer": "ipython3",
   "version": "3.10.7"
  }
 },
 "nbformat": 4,
 "nbformat_minor": 5
}
